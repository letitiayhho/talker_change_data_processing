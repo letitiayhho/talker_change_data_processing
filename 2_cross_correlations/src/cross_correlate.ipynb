{
 "cells": [
  {
   "cell_type": "code",
   "execution_count": 15,
   "id": "c20a8b75",
   "metadata": {},
   "outputs": [],
   "source": [
    "import scipy.signal as ssg\n",
    "import scipy.io as sio\n",
    "from scipy.io import wavfile\n",
    "import wave\n",
    "from pathlib import Path"
   ]
  },
  {
   "cell_type": "code",
   "execution_count": 16,
   "id": "7b22fdec",
   "metadata": {},
   "outputs": [],
   "source": [
    "# Load audio file\n",
    "rate, stim = sio.wavfile.read(\"../../0_set_up_and_raw_data/data/stim/original/churchbells_f.wav\")\n",
    "\n",
    "# Load eeg signal\n",
    "eeg = sio.loadmat(\"../../1_preprocessing/data/304/eeg_data.mat\")['eeg_data']\n",
    "epoch = eeg[1, :, 1]\n",
    "factor = int(rate/1000 * len(epoch))\n",
    "epoch = ssg.resample(epoch, factor)"
   ]
  },
  {
   "cell_type": "code",
   "execution_count": 17,
   "id": "b2a6074b",
   "metadata": {},
   "outputs": [
    {
     "name": "stdout",
     "output_type": "stream",
     "text": [
      "70560\n",
      "51941\n"
     ]
    }
   ],
   "source": [
    "print(len(epoch))\n",
    "print(len(stim))"
   ]
  },
  {
   "cell_type": "code",
   "execution_count": 18,
   "id": "8f311ddd",
   "metadata": {},
   "outputs": [],
   "source": [
    "cross_correlations = ssg.correlate(epoch, stim)"
   ]
  },
  {
   "cell_type": "code",
   "execution_count": 19,
   "id": "5ac45a3b",
   "metadata": {},
   "outputs": [
    {
     "name": "stdout",
     "output_type": "stream",
     "text": [
      "19201530.0\n"
     ]
    }
   ],
   "source": [
    "print(max(abs(cross_correlations)))"
   ]
  },
  {
   "cell_type": "code",
   "execution_count": null,
   "id": "6eadad81",
   "metadata": {},
   "outputs": [],
   "source": []
  }
 ],
 "metadata": {
  "kernelspec": {
   "display_name": "Python 3",
   "language": "python",
   "name": "python3"
  },
  "language_info": {
   "codemirror_mode": {
    "name": "ipython",
    "version": 3
   },
   "file_extension": ".py",
   "mimetype": "text/x-python",
   "name": "python",
   "nbconvert_exporter": "python",
   "pygments_lexer": "ipython3",
   "version": "3.9.4"
  }
 },
 "nbformat": 4,
 "nbformat_minor": 5
}
