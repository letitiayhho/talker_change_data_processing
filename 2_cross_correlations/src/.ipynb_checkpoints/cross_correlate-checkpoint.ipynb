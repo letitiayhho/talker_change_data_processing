{
 "cells": [
  {
   "cell_type": "code",
   "execution_count": 6,
   "id": "c20a8b75",
   "metadata": {},
   "outputs": [],
   "source": [
    "import scipy.signal as ssg\n",
    "import scipy.io as sio\n",
    "from scipy.io import wavfile\n",
    "import wave\n",
    "from pathlib import Path"
   ]
  },
  {
   "cell_type": "code",
   "execution_count": 7,
   "id": "7b22fdec",
   "metadata": {},
   "outputs": [],
   "source": [
    "#data_dir = Path.cwd() / \"..\" / \"data\"\n",
    "#for child in data_dir.iterdir():\n",
    "#    if not child.name.isnumeric():\n",
    "#        continue\n",
    "#    with open(child, \"rb\") as f:\n",
    "#        use(f)\n",
    "        \n",
    "# Load audio file\n",
    "rate, stim = sio.wavfile.read(\"../../0_set_up_and_raw_data/data/stim/original/churchbells_f.wav\")\n",
    "\n",
    "# Load eeg signal\n",
    "eeg = sio.loadmat(\"../../1_preprocessing/data/304/eeg_data.mat\")['eeg_data']\n",
    "epoch = eeg[1, :, 1]\n",
    "factor = int(rate/1000 * len(epoch))\n",
    "epoch = ssg.resample(epoch, factor)"
   ]
  },
  {
   "cell_type": "code",
   "execution_count": 14,
   "id": "b2a6074b",
   "metadata": {},
   "outputs": [
    {
     "ename": "NameError",
     "evalue": "name 'length' is not defined",
     "output_type": "error",
     "traceback": [
      "\u001b[0;31m---------------------------------------------------------------------------\u001b[0m",
      "\u001b[0;31mNameError\u001b[0m                                 Traceback (most recent call last)",
      "\u001b[0;32m<ipython-input-14-f3585d365cef>\u001b[0m in \u001b[0;36m<module>\u001b[0;34m\u001b[0m\n\u001b[0;32m----> 1\u001b[0;31m \u001b[0mlength\u001b[0m\u001b[0;34m(\u001b[0m\u001b[0mepoch\u001b[0m\u001b[0;34m)\u001b[0m\u001b[0;34m\u001b[0m\u001b[0;34m\u001b[0m\u001b[0m\n\u001b[0m\u001b[1;32m      2\u001b[0m \u001b[0mlength\u001b[0m\u001b[0;34m(\u001b[0m\u001b[0mstim\u001b[0m\u001b[0;34m)\u001b[0m\u001b[0;34m\u001b[0m\u001b[0;34m\u001b[0m\u001b[0m\n\u001b[1;32m      3\u001b[0m \u001b[0mcross_correlations\u001b[0m \u001b[0;34m=\u001b[0m \u001b[0mssg\u001b[0m\u001b[0;34m.\u001b[0m\u001b[0mcorrelate\u001b[0m\u001b[0;34m(\u001b[0m\u001b[0mepoch\u001b[0m\u001b[0;34m,\u001b[0m \u001b[0mstim\u001b[0m\u001b[0;34m)\u001b[0m\u001b[0;34m\u001b[0m\u001b[0;34m\u001b[0m\u001b[0m\n",
      "\u001b[0;31mNameError\u001b[0m: name 'length' is not defined"
     ]
    }
   ],
   "source": [
    "print(len(epoch))\n",
    "print(len(stim))"
   ]
  },
  {
   "cell_type": "code",
   "execution_count": null,
   "id": "974eef36",
   "metadata": {},
   "outputs": [],
   "source": [
    "cross_correlations = ssg.correlate(epoch, stim)"
   ]
  },
  {
   "cell_type": "code",
   "execution_count": 13,
   "id": "5ac45a3b",
   "metadata": {},
   "outputs": [
    {
     "name": "stdout",
     "output_type": "stream",
     "text": [
      "19201530.0\n"
     ]
    }
   ],
   "source": [
    "cross_correlations_list = cross_correlations.tolist()\n",
    "print(max(abs(cross_correlations)))"
   ]
  },
  {
   "cell_type": "code",
   "execution_count": 10,
   "id": "a76e2918",
   "metadata": {},
   "outputs": [
    {
     "data": {
      "text/plain": [
       "numpy.ndarray"
      ]
     },
     "execution_count": 10,
     "metadata": {},
     "output_type": "execute_result"
    }
   ],
   "source": [
    "type(cross_correlations)"
   ]
  },
  {
   "cell_type": "code",
   "execution_count": null,
   "id": "6078acf0",
   "metadata": {},
   "outputs": [],
   "source": []
  }
 ],
 "metadata": {
  "kernelspec": {
   "display_name": "Python 3",
   "language": "python",
   "name": "python3"
  },
  "language_info": {
   "codemirror_mode": {
    "name": "ipython",
    "version": 3
   },
   "file_extension": ".py",
   "mimetype": "text/x-python",
   "name": "python",
   "nbconvert_exporter": "python",
   "pygments_lexer": "ipython3",
   "version": "3.9.4"
  }
 },
 "nbformat": 4,
 "nbformat_minor": 5
}
